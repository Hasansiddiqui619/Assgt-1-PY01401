{
 "cells": [
  {
   "cell_type": "code",
   "execution_count": 1,
   "metadata": {},
   "outputs": [
    {
     "name": "stdout",
     "output_type": "stream",
     "text": [
      "Input number to compute the factorial : 6\n",
      "The factorial of 6 is 720\n"
     ]
    }
   ],
   "source": [
    "#Calculate factorial \n",
    "\n",
    "def factorial(num):\n",
    "    \n",
    "    if num == 0:\n",
    "        return 1\n",
    "    else:\n",
    "        return num * factorial(num-1)\n",
    "\n",
    "num = int(input(\"Input number to compute the factorial : \"))\n",
    "#print(factorial(num))\n",
    "print(\"The factorial of\",num,\"is\",factorial(num))"
   ]
  },
  {
   "cell_type": "code",
   "execution_count": 2,
   "metadata": {},
   "outputs": [
    {
     "name": "stdout",
     "output_type": "stream",
     "text": [
      "Original String :  Karachi is the city of LIGHT\n",
      "No. of Upper case characters :  6\n",
      "No. of Lower case Characters :  17\n"
     ]
    }
   ],
   "source": [
    "#To count upper Case and lower case\n",
    "\n",
    "def string_test(s):\n",
    "    d={\"UPPER_CASE\":0, \"LOWER_CASE\":0}\n",
    "    for c in s:\n",
    "        if c.isupper():\n",
    "           d[\"UPPER_CASE\"]+=1\n",
    "        elif c.islower():\n",
    "           d[\"LOWER_CASE\"]+=1\n",
    "        else:\n",
    "           pass\n",
    "    print (\"Original String : \", s)\n",
    "    print (\"No. of Upper case characters : \", d[\"UPPER_CASE\"])\n",
    "    print (\"No. of Lower case Characters : \", d[\"LOWER_CASE\"])\n",
    "\n",
    "string_test('Karachi is the city of LIGHT')"
   ]
  },
  {
   "cell_type": "code",
   "execution_count": 3,
   "metadata": {},
   "outputs": [
    {
     "name": "stdout",
     "output_type": "stream",
     "text": [
      "20 8 66 100 "
     ]
    }
   ],
   "source": [
    "#create list of numbers\n",
    "\n",
    "num_list = [20, 21, 8, 45, 66, 93,100] \n",
    "num = 0\n",
    "          \n",
    "while(num < len(num_list)): \n",
    "      \n",
    "    if num_list[num] % 2 == 0: \n",
    "       print(num_list[num], end = \" \") \n",
    "         \n",
    "    num += 1"
   ]
  },
  {
   "cell_type": "code",
   "execution_count": 4,
   "metadata": {},
   "outputs": [
    {
     "name": "stdout",
     "output_type": "stream",
     "text": [
      "Yes\n"
     ]
    }
   ],
   "source": [
    "#function which return reverse of a string \n",
    "\n",
    "def reverse(s): \n",
    "    return s[::-1] \n",
    "  \n",
    "def isPalindrome(s): \n",
    "    # Calling reverse function \n",
    "    rev = reverse(s) \n",
    "  \n",
    "    # Checking if both string are equal or not \n",
    "    if (s == rev): \n",
    "        return True\n",
    "    return False\n",
    "  \n",
    "# Driver code \n",
    "s = \"malayalam\"\n",
    "ans = isPalindrome(s) \n",
    "  \n",
    "if ans == 1: \n",
    "    print(\"Yes\") \n",
    "else: \n",
    "    print(\"No\") \n"
   ]
  },
  {
   "cell_type": "code",
   "execution_count": 5,
   "metadata": {},
   "outputs": [
    {
     "name": "stdout",
     "output_type": "stream",
     "text": [
      "Input a number to check prime number or not : 10\n",
      "False\n"
     ]
    }
   ],
   "source": [
    "#To check prime number\n",
    "\n",
    "def prime_num(n):\n",
    "    if (n==1):\n",
    "        return False\n",
    "    elif (n==2):\n",
    "        return True;\n",
    "    else:\n",
    "        for x in range(2,n):\n",
    "            if(n % x==0):\n",
    "                return False\n",
    "        return True             \n",
    "\n",
    "num = int(input(\"Input a number to check prime number or not : \"))\n",
    "print(prime_num(num))"
   ]
  },
  {
   "cell_type": "code",
   "execution_count": null,
   "metadata": {},
   "outputs": [
    {
     "name": "stdout",
     "output_type": "stream",
     "text": [
      "What should we buy from the shops\n",
      "Enter 'DONE' to stop adding items\n"
     ]
    }
   ],
   "source": [
    "#To create Shopping list.\n",
    "\n",
    "shopping_list = []\n",
    "\n",
    "print(\"What should we buy from the shops\")\n",
    "print(\"Enter 'DONE' to stop adding items\")\n",
    "\n",
    "while True:\n",
    "    #asks for new items\n",
    "    new_item = input(\"> \")\n",
    "\n",
    "    #be able to quit the app\n",
    "    if new_item == 'DONE':\n",
    "        break\n",
    "\n",
    "    #add items to shopping list\n",
    "    shopping_list.append(new_item)\n",
    "\n",
    "print(\"Here's your list:\")\n",
    "\n",
    "for item in shopping_list:\n",
    "    print(item)"
   ]
  },
  {
   "cell_type": "code",
   "execution_count": null,
   "metadata": {},
   "outputs": [],
   "source": []
  }
 ],
 "metadata": {
  "kernelspec": {
   "display_name": "Python 3",
   "language": "python",
   "name": "python3"
  },
  "language_info": {
   "codemirror_mode": {
    "name": "ipython",
    "version": 3
   },
   "file_extension": ".py",
   "mimetype": "text/x-python",
   "name": "python",
   "nbconvert_exporter": "python",
   "pygments_lexer": "ipython3",
   "version": "3.7.4"
  }
 },
 "nbformat": 4,
 "nbformat_minor": 2
}
